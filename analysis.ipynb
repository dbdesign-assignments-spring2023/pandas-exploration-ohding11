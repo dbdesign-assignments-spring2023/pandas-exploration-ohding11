{
 "cells": [
  {
   "cell_type": "markdown",
   "metadata": {},
   "source": [
    "# pandas exploration\n",
    "In this assignment you will select a data set and do some munging and analysis of it using `pandas`, Jupyter Notebooks, and associated Python-centric data science tools."
   ]
  },
  {
   "cell_type": "markdown",
   "metadata": {},
   "source": [
    "Import the core data science libraries:"
   ]
  },
  {
   "cell_type": "code",
   "execution_count": 3,
   "metadata": {},
   "outputs": [],
   "source": [
    "%matplotlib inline\n",
    "import matplotlib.pyplot as plt\n",
    "import numpy as np\n",
    "import pandas as pd"
   ]
  },
  {
   "cell_type": "markdown",
   "metadata": {},
   "source": [
    "## Import the raw data\n",
    "In this section, you will import the raw data into a `pandas` DataFrame."
   ]
  },
  {
   "cell_type": "code",
   "execution_count": 4,
   "metadata": {
    "tags": []
   },
   "outputs": [],
   "source": [
    "df = pd.read_csv('./data/shaq_stats.csv')"
   ]
  },
  {
   "cell_type": "markdown",
   "metadata": {},
   "source": [
    "## Data inspection\n",
    "In this section, you will show enough of your data for a viewer to get a general sense of how the data is structured and any unique features of it.  Complete each of the indicated tasks in a Code cell, making sure to include a Markdown cell above each Code cell that explains what is being shown by the code.  \n",
    "- Show 5 rows, selected at random, from the data set.\n",
    "- Show each of the column names and their data types.\n",
    "- Show any unique features of your chosen data set.\n",
    "\n",
    "Feel free to add as many additional cells as you need to help explain the raw data."
   ]
  },
  {
   "cell_type": "code",
   "execution_count": 7,
   "metadata": {},
   "outputs": [
    {
     "data": {
      "text/html": [
       "<div>\n",
       "<style scoped>\n",
       "    .dataframe tbody tr th:only-of-type {\n",
       "        vertical-align: middle;\n",
       "    }\n",
       "\n",
       "    .dataframe tbody tr th {\n",
       "        vertical-align: top;\n",
       "    }\n",
       "\n",
       "    .dataframe thead th {\n",
       "        text-align: right;\n",
       "    }\n",
       "</style>\n",
       "<table border=\"1\" class=\"dataframe\">\n",
       "  <thead>\n",
       "    <tr style=\"text-align: right;\">\n",
       "      <th></th>\n",
       "      <th>Season</th>\n",
       "      <th>SeasGm</th>\n",
       "      <th>CarrGm</th>\n",
       "      <th>Date</th>\n",
       "      <th>Age</th>\n",
       "      <th>Tm</th>\n",
       "      <th>Home</th>\n",
       "      <th>Opp</th>\n",
       "      <th>Win</th>\n",
       "      <th>teamdiff</th>\n",
       "      <th>...</th>\n",
       "      <th>DRB</th>\n",
       "      <th>TRB</th>\n",
       "      <th>AST</th>\n",
       "      <th>STL</th>\n",
       "      <th>BLK</th>\n",
       "      <th>TOV</th>\n",
       "      <th>PF</th>\n",
       "      <th>PTS</th>\n",
       "      <th>GmSc</th>\n",
       "      <th>Pls/Mns</th>\n",
       "    </tr>\n",
       "  </thead>\n",
       "  <tbody>\n",
       "    <tr>\n",
       "      <th>969</th>\n",
       "      <td>15</td>\n",
       "      <td>29</td>\n",
       "      <td>970</td>\n",
       "      <td>39164</td>\n",
       "      <td>35.0465</td>\n",
       "      <td>MIA</td>\n",
       "      <td>0</td>\n",
       "      <td>IND</td>\n",
       "      <td>0</td>\n",
       "      <td>-25</td>\n",
       "      <td>...</td>\n",
       "      <td>2</td>\n",
       "      <td>3</td>\n",
       "      <td>0</td>\n",
       "      <td>0</td>\n",
       "      <td>1</td>\n",
       "      <td>2</td>\n",
       "      <td>4</td>\n",
       "      <td>13</td>\n",
       "      <td>6.4</td>\n",
       "      <td>-19.0</td>\n",
       "    </tr>\n",
       "    <tr>\n",
       "      <th>261</th>\n",
       "      <td>4</td>\n",
       "      <td>21</td>\n",
       "      <td>262</td>\n",
       "      <td>35101</td>\n",
       "      <td>23.9227</td>\n",
       "      <td>ORL</td>\n",
       "      <td>1</td>\n",
       "      <td>SAC</td>\n",
       "      <td>1</td>\n",
       "      <td>10</td>\n",
       "      <td>...</td>\n",
       "      <td>4</td>\n",
       "      <td>5</td>\n",
       "      <td>2</td>\n",
       "      <td>0</td>\n",
       "      <td>3</td>\n",
       "      <td>1</td>\n",
       "      <td>2</td>\n",
       "      <td>22</td>\n",
       "      <td>16.7</td>\n",
       "      <td>NaN</td>\n",
       "    </tr>\n",
       "    <tr>\n",
       "      <th>1092</th>\n",
       "      <td>17</td>\n",
       "      <td>51</td>\n",
       "      <td>1093</td>\n",
       "      <td>39871</td>\n",
       "      <td>36.9802</td>\n",
       "      <td>PHO</td>\n",
       "      <td>1</td>\n",
       "      <td>TOR</td>\n",
       "      <td>1</td>\n",
       "      <td>20</td>\n",
       "      <td>...</td>\n",
       "      <td>8</td>\n",
       "      <td>11</td>\n",
       "      <td>2</td>\n",
       "      <td>3</td>\n",
       "      <td>1</td>\n",
       "      <td>3</td>\n",
       "      <td>4</td>\n",
       "      <td>45</td>\n",
       "      <td>39.3</td>\n",
       "      <td>17.0</td>\n",
       "    </tr>\n",
       "    <tr>\n",
       "      <th>619</th>\n",
       "      <td>10</td>\n",
       "      <td>12</td>\n",
       "      <td>620</td>\n",
       "      <td>37218</td>\n",
       "      <td>29.7173</td>\n",
       "      <td>LAL</td>\n",
       "      <td>1</td>\n",
       "      <td>GSW</td>\n",
       "      <td>1</td>\n",
       "      <td>16</td>\n",
       "      <td>...</td>\n",
       "      <td>9</td>\n",
       "      <td>10</td>\n",
       "      <td>1</td>\n",
       "      <td>0</td>\n",
       "      <td>2</td>\n",
       "      <td>3</td>\n",
       "      <td>3</td>\n",
       "      <td>20</td>\n",
       "      <td>13.6</td>\n",
       "      <td>21.0</td>\n",
       "    </tr>\n",
       "    <tr>\n",
       "      <th>424</th>\n",
       "      <td>7</td>\n",
       "      <td>19</td>\n",
       "      <td>425</td>\n",
       "      <td>36228</td>\n",
       "      <td>27.0082</td>\n",
       "      <td>LAL</td>\n",
       "      <td>0</td>\n",
       "      <td>LAC</td>\n",
       "      <td>1</td>\n",
       "      <td>4</td>\n",
       "      <td>...</td>\n",
       "      <td>8</td>\n",
       "      <td>12</td>\n",
       "      <td>2</td>\n",
       "      <td>0</td>\n",
       "      <td>5</td>\n",
       "      <td>6</td>\n",
       "      <td>6</td>\n",
       "      <td>31</td>\n",
       "      <td>20.7</td>\n",
       "      <td>NaN</td>\n",
       "    </tr>\n",
       "  </tbody>\n",
       "</table>\n",
       "<p>5 rows × 32 columns</p>\n",
       "</div>"
      ],
      "text/plain": [
       "      Season  SeasGm  CarrGm   Date      Age   Tm  Home  Opp  Win  teamdiff  \\\n",
       "969       15      29     970  39164  35.0465  MIA     0  IND    0       -25   \n",
       "261        4      21     262  35101  23.9227  ORL     1  SAC    1        10   \n",
       "1092      17      51    1093  39871  36.9802  PHO     1  TOR    1        20   \n",
       "619       10      12     620  37218  29.7173  LAL     1  GSW    1        16   \n",
       "424        7      19     425  36228  27.0082  LAL     0  LAC    1         4   \n",
       "\n",
       "      ...  DRB  TRB  AST  STL  BLK  TOV  PF  PTS  GmSc  Pls/Mns  \n",
       "969   ...    2    3    0    0    1    2   4   13   6.4    -19.0  \n",
       "261   ...    4    5    2    0    3    1   2   22  16.7      NaN  \n",
       "1092  ...    8   11    2    3    1    3   4   45  39.3     17.0  \n",
       "619   ...    9   10    1    0    2    3   3   20  13.6     21.0  \n",
       "424   ...    8   12    2    0    5    6   6   31  20.7      NaN  \n",
       "\n",
       "[5 rows x 32 columns]"
      ]
     },
     "execution_count": 7,
     "metadata": {},
     "output_type": "execute_result"
    }
   ],
   "source": [
    "#show 5 rows, sampled at random\n",
    "df.sample(5)"
   ]
  },
  {
   "cell_type": "code",
   "execution_count": 6,
   "metadata": {},
   "outputs": [
    {
     "name": "stdout",
     "output_type": "stream",
     "text": [
      "<class 'pandas.core.frame.DataFrame'>\n",
      "RangeIndex: 1207 entries, 0 to 1206\n",
      "Data columns (total 32 columns):\n",
      " #   Column    Non-Null Count  Dtype  \n",
      "---  ------    --------------  -----  \n",
      " 0   Season    1207 non-null   int64  \n",
      " 1   SeasGm    1207 non-null   int64  \n",
      " 2   CarrGm    1207 non-null   int64  \n",
      " 3   Date      1207 non-null   int64  \n",
      " 4   Age       1207 non-null   float64\n",
      " 5   Tm        1207 non-null   object \n",
      " 6   Home      1207 non-null   int64  \n",
      " 7   Opp       1207 non-null   object \n",
      " 8   Win       1207 non-null   int64  \n",
      " 9   teamdiff  1207 non-null   int64  \n",
      " 10  GS        1207 non-null   int64  \n",
      " 11  Minutes   1207 non-null   float64\n",
      " 12  FG        1207 non-null   int64  \n",
      " 13  FGA       1207 non-null   int64  \n",
      " 14  FG%       1206 non-null   float64\n",
      " 15  3P        1207 non-null   int64  \n",
      " 16  3PA       1207 non-null   int64  \n",
      " 17  3P%       22 non-null     float64\n",
      " 18  FT        1207 non-null   int64  \n",
      " 19  FTA       1207 non-null   int64  \n",
      " 20  FT%       1182 non-null   float64\n",
      " 21  ORB       1207 non-null   int64  \n",
      " 22  DRB       1207 non-null   int64  \n",
      " 23  TRB       1207 non-null   int64  \n",
      " 24  AST       1207 non-null   int64  \n",
      " 25  STL       1207 non-null   int64  \n",
      " 26  BLK       1207 non-null   int64  \n",
      " 27  TOV       1207 non-null   int64  \n",
      " 28  PF        1207 non-null   int64  \n",
      " 29  PTS       1207 non-null   int64  \n",
      " 30  GmSc      1207 non-null   float64\n",
      " 31  Pls/Mns   673 non-null    float64\n",
      "dtypes: float64(7), int64(23), object(2)\n",
      "memory usage: 301.9+ KB\n"
     ]
    }
   ],
   "source": [
    "#show each column and corresponding data types\n",
    "df.info()"
   ]
  },
  {
   "cell_type": "markdown",
   "metadata": {},
   "source": [
    "Unique feature: the dataset includes stats for plus/minus ('Pls/Mns'), but the statistic was not tracked by the NBA until the 9th season of Shaq's career, so the values in this field are NaNs up until this point this can be seen in the queries below:"
   ]
  },
  {
   "cell_type": "code",
   "execution_count": 11,
   "metadata": {},
   "outputs": [
    {
     "data": {
      "text/html": [
       "<div>\n",
       "<style scoped>\n",
       "    .dataframe tbody tr th:only-of-type {\n",
       "        vertical-align: middle;\n",
       "    }\n",
       "\n",
       "    .dataframe tbody tr th {\n",
       "        vertical-align: top;\n",
       "    }\n",
       "\n",
       "    .dataframe thead th {\n",
       "        text-align: right;\n",
       "    }\n",
       "</style>\n",
       "<table border=\"1\" class=\"dataframe\">\n",
       "  <thead>\n",
       "    <tr style=\"text-align: right;\">\n",
       "      <th></th>\n",
       "      <th>Season</th>\n",
       "      <th>Pls/Mns</th>\n",
       "    </tr>\n",
       "  </thead>\n",
       "  <tbody>\n",
       "    <tr>\n",
       "      <th>0</th>\n",
       "      <td>1</td>\n",
       "      <td>NaN</td>\n",
       "    </tr>\n",
       "    <tr>\n",
       "      <th>1</th>\n",
       "      <td>1</td>\n",
       "      <td>NaN</td>\n",
       "    </tr>\n",
       "    <tr>\n",
       "      <th>2</th>\n",
       "      <td>1</td>\n",
       "      <td>NaN</td>\n",
       "    </tr>\n",
       "    <tr>\n",
       "      <th>3</th>\n",
       "      <td>1</td>\n",
       "      <td>NaN</td>\n",
       "    </tr>\n",
       "    <tr>\n",
       "      <th>4</th>\n",
       "      <td>1</td>\n",
       "      <td>NaN</td>\n",
       "    </tr>\n",
       "    <tr>\n",
       "      <th>...</th>\n",
       "      <td>...</td>\n",
       "      <td>...</td>\n",
       "    </tr>\n",
       "    <tr>\n",
       "      <th>529</th>\n",
       "      <td>8</td>\n",
       "      <td>NaN</td>\n",
       "    </tr>\n",
       "    <tr>\n",
       "      <th>530</th>\n",
       "      <td>8</td>\n",
       "      <td>NaN</td>\n",
       "    </tr>\n",
       "    <tr>\n",
       "      <th>531</th>\n",
       "      <td>8</td>\n",
       "      <td>NaN</td>\n",
       "    </tr>\n",
       "    <tr>\n",
       "      <th>532</th>\n",
       "      <td>8</td>\n",
       "      <td>NaN</td>\n",
       "    </tr>\n",
       "    <tr>\n",
       "      <th>533</th>\n",
       "      <td>8</td>\n",
       "      <td>NaN</td>\n",
       "    </tr>\n",
       "  </tbody>\n",
       "</table>\n",
       "<p>534 rows × 2 columns</p>\n",
       "</div>"
      ],
      "text/plain": [
       "     Season  Pls/Mns\n",
       "0         1      NaN\n",
       "1         1      NaN\n",
       "2         1      NaN\n",
       "3         1      NaN\n",
       "4         1      NaN\n",
       "..      ...      ...\n",
       "529       8      NaN\n",
       "530       8      NaN\n",
       "531       8      NaN\n",
       "532       8      NaN\n",
       "533       8      NaN\n",
       "\n",
       "[534 rows x 2 columns]"
      ]
     },
     "execution_count": 11,
     "metadata": {},
     "output_type": "execute_result"
    }
   ],
   "source": [
    "#before 9th season:\n",
    "df_beforePlsMns = df[df['Season'] < 9]\n",
    "df_beforePlsMns.loc[:,['Season','Pls/Mns']]"
   ]
  },
  {
   "cell_type": "code",
   "execution_count": 14,
   "metadata": {},
   "outputs": [
    {
     "data": {
      "text/html": [
       "<div>\n",
       "<style scoped>\n",
       "    .dataframe tbody tr th:only-of-type {\n",
       "        vertical-align: middle;\n",
       "    }\n",
       "\n",
       "    .dataframe tbody tr th {\n",
       "        vertical-align: top;\n",
       "    }\n",
       "\n",
       "    .dataframe thead th {\n",
       "        text-align: right;\n",
       "    }\n",
       "</style>\n",
       "<table border=\"1\" class=\"dataframe\">\n",
       "  <thead>\n",
       "    <tr style=\"text-align: right;\">\n",
       "      <th></th>\n",
       "      <th>Season</th>\n",
       "      <th>Pls/Mns</th>\n",
       "    </tr>\n",
       "  </thead>\n",
       "  <tbody>\n",
       "    <tr>\n",
       "      <th>534</th>\n",
       "      <td>9</td>\n",
       "      <td>7.0</td>\n",
       "    </tr>\n",
       "    <tr>\n",
       "      <th>535</th>\n",
       "      <td>9</td>\n",
       "      <td>2.0</td>\n",
       "    </tr>\n",
       "    <tr>\n",
       "      <th>536</th>\n",
       "      <td>9</td>\n",
       "      <td>20.0</td>\n",
       "    </tr>\n",
       "    <tr>\n",
       "      <th>537</th>\n",
       "      <td>9</td>\n",
       "      <td>13.0</td>\n",
       "    </tr>\n",
       "    <tr>\n",
       "      <th>538</th>\n",
       "      <td>9</td>\n",
       "      <td>-6.0</td>\n",
       "    </tr>\n",
       "    <tr>\n",
       "      <th>...</th>\n",
       "      <td>...</td>\n",
       "      <td>...</td>\n",
       "    </tr>\n",
       "    <tr>\n",
       "      <th>1202</th>\n",
       "      <td>19</td>\n",
       "      <td>7.0</td>\n",
       "    </tr>\n",
       "    <tr>\n",
       "      <th>1203</th>\n",
       "      <td>19</td>\n",
       "      <td>0.0</td>\n",
       "    </tr>\n",
       "    <tr>\n",
       "      <th>1204</th>\n",
       "      <td>19</td>\n",
       "      <td>-4.0</td>\n",
       "    </tr>\n",
       "    <tr>\n",
       "      <th>1205</th>\n",
       "      <td>19</td>\n",
       "      <td>-2.0</td>\n",
       "    </tr>\n",
       "    <tr>\n",
       "      <th>1206</th>\n",
       "      <td>19</td>\n",
       "      <td>-2.0</td>\n",
       "    </tr>\n",
       "  </tbody>\n",
       "</table>\n",
       "<p>673 rows × 2 columns</p>\n",
       "</div>"
      ],
      "text/plain": [
       "      Season  Pls/Mns\n",
       "534        9      7.0\n",
       "535        9      2.0\n",
       "536        9     20.0\n",
       "537        9     13.0\n",
       "538        9     -6.0\n",
       "...      ...      ...\n",
       "1202      19      7.0\n",
       "1203      19      0.0\n",
       "1204      19     -4.0\n",
       "1205      19     -2.0\n",
       "1206      19     -2.0\n",
       "\n",
       "[673 rows x 2 columns]"
      ]
     },
     "execution_count": 14,
     "metadata": {},
     "output_type": "execute_result"
    }
   ],
   "source": [
    "#after 9th season:\n",
    "df_afterPlsMns = df[df['Season'] >= 9]\n",
    "df_afterPlsMns.loc[:,['Season','Pls/Mns']]"
   ]
  },
  {
   "cell_type": "markdown",
   "metadata": {},
   "source": [
    "## Data munging\n",
    "Place your **data munging** code and documentation within this section.  \n",
    "- Keep each of your Code cells short and focused on a single task.  \n",
    "- Include a Markdown cell above each code cell that describes what task the code within the code cell is performing.\n",
    "- Make as many code cells as you need to complete the munging - a few have been created for you to start with.\n",
    "- Display 5 sample rows of the modified data after each transformation so a viewer can see how the data has changed.\n",
    "\n",
    "**Note**: If you believe that your data set does not require any munging, please explain in detail.  Create Markdown cells that explain your thinking and create Code cells that show any specific structures of the data you refer to in your explanation."
   ]
  },
  {
   "cell_type": "markdown",
   "metadata": {},
   "source": [
    "I do not believe this dataset needs munging before moving forward with the analysis. While there are missing values, these are handled consistently throughout the dataset and it would not make sense to replace them with zeroes. In addition to the NaN values in the ```Pls/Mns``` field I explained above, the ```3P%``` and ```FT%``` fields are expressed as empty values for games where Shaq did not attempt a 3-pointer or free throw. Replacing these with zeroes would mean they are expressed the same as games where he was 0/2, 0/3, etc. The ```Date``` field is expressed as days passed since January 1, 1900, and the ```Age``` column is expressed as a floating point, which makes these values easy to compare and sort. Overall, the structure of the dataset is optimal for performing analysis."
   ]
  },
  {
   "cell_type": "code",
   "execution_count": 20,
   "metadata": {},
   "outputs": [
    {
     "data": {
      "text/html": [
       "<div>\n",
       "<style scoped>\n",
       "    .dataframe tbody tr th:only-of-type {\n",
       "        vertical-align: middle;\n",
       "    }\n",
       "\n",
       "    .dataframe tbody tr th {\n",
       "        vertical-align: top;\n",
       "    }\n",
       "\n",
       "    .dataframe thead th {\n",
       "        text-align: right;\n",
       "    }\n",
       "</style>\n",
       "<table border=\"1\" class=\"dataframe\">\n",
       "  <thead>\n",
       "    <tr style=\"text-align: right;\">\n",
       "      <th></th>\n",
       "      <th>3PA</th>\n",
       "      <th>3P</th>\n",
       "      <th>3P%</th>\n",
       "    </tr>\n",
       "  </thead>\n",
       "  <tbody>\n",
       "    <tr>\n",
       "      <th>0</th>\n",
       "      <td>0</td>\n",
       "      <td>0</td>\n",
       "      <td>NaN</td>\n",
       "    </tr>\n",
       "    <tr>\n",
       "      <th>1</th>\n",
       "      <td>0</td>\n",
       "      <td>0</td>\n",
       "      <td>NaN</td>\n",
       "    </tr>\n",
       "    <tr>\n",
       "      <th>2</th>\n",
       "      <td>0</td>\n",
       "      <td>0</td>\n",
       "      <td>NaN</td>\n",
       "    </tr>\n",
       "    <tr>\n",
       "      <th>3</th>\n",
       "      <td>0</td>\n",
       "      <td>0</td>\n",
       "      <td>NaN</td>\n",
       "    </tr>\n",
       "    <tr>\n",
       "      <th>4</th>\n",
       "      <td>0</td>\n",
       "      <td>0</td>\n",
       "      <td>NaN</td>\n",
       "    </tr>\n",
       "    <tr>\n",
       "      <th>...</th>\n",
       "      <td>...</td>\n",
       "      <td>...</td>\n",
       "      <td>...</td>\n",
       "    </tr>\n",
       "    <tr>\n",
       "      <th>1202</th>\n",
       "      <td>0</td>\n",
       "      <td>0</td>\n",
       "      <td>NaN</td>\n",
       "    </tr>\n",
       "    <tr>\n",
       "      <th>1203</th>\n",
       "      <td>0</td>\n",
       "      <td>0</td>\n",
       "      <td>NaN</td>\n",
       "    </tr>\n",
       "    <tr>\n",
       "      <th>1204</th>\n",
       "      <td>0</td>\n",
       "      <td>0</td>\n",
       "      <td>NaN</td>\n",
       "    </tr>\n",
       "    <tr>\n",
       "      <th>1205</th>\n",
       "      <td>0</td>\n",
       "      <td>0</td>\n",
       "      <td>NaN</td>\n",
       "    </tr>\n",
       "    <tr>\n",
       "      <th>1206</th>\n",
       "      <td>0</td>\n",
       "      <td>0</td>\n",
       "      <td>NaN</td>\n",
       "    </tr>\n",
       "  </tbody>\n",
       "</table>\n",
       "<p>1185 rows × 3 columns</p>\n",
       "</div>"
      ],
      "text/plain": [
       "      3PA  3P  3P%\n",
       "0       0   0  NaN\n",
       "1       0   0  NaN\n",
       "2       0   0  NaN\n",
       "3       0   0  NaN\n",
       "4       0   0  NaN\n",
       "...   ...  ..  ...\n",
       "1202    0   0  NaN\n",
       "1203    0   0  NaN\n",
       "1204    0   0  NaN\n",
       "1205    0   0  NaN\n",
       "1206    0   0  NaN\n",
       "\n",
       "[1185 rows x 3 columns]"
      ]
     },
     "execution_count": 20,
     "metadata": {},
     "output_type": "execute_result"
    }
   ],
   "source": [
    "#missing values for '3P%'\n",
    "df_no3PA = df[df['3P%'].isnull()]\n",
    "df_no3PA.loc[:,['3PA','3P','3P%']]"
   ]
  },
  {
   "cell_type": "code",
   "execution_count": 22,
   "metadata": {},
   "outputs": [
    {
     "data": {
      "text/html": [
       "<div>\n",
       "<style scoped>\n",
       "    .dataframe tbody tr th:only-of-type {\n",
       "        vertical-align: middle;\n",
       "    }\n",
       "\n",
       "    .dataframe tbody tr th {\n",
       "        vertical-align: top;\n",
       "    }\n",
       "\n",
       "    .dataframe thead th {\n",
       "        text-align: right;\n",
       "    }\n",
       "</style>\n",
       "<table border=\"1\" class=\"dataframe\">\n",
       "  <thead>\n",
       "    <tr style=\"text-align: right;\">\n",
       "      <th></th>\n",
       "      <th>FTA</th>\n",
       "      <th>FT</th>\n",
       "      <th>FT%</th>\n",
       "    </tr>\n",
       "  </thead>\n",
       "  <tbody>\n",
       "    <tr>\n",
       "      <th>8</th>\n",
       "      <td>0</td>\n",
       "      <td>0</td>\n",
       "      <td>NaN</td>\n",
       "    </tr>\n",
       "    <tr>\n",
       "      <th>214</th>\n",
       "      <td>0</td>\n",
       "      <td>0</td>\n",
       "      <td>NaN</td>\n",
       "    </tr>\n",
       "    <tr>\n",
       "      <th>274</th>\n",
       "      <td>0</td>\n",
       "      <td>0</td>\n",
       "      <td>NaN</td>\n",
       "    </tr>\n",
       "    <tr>\n",
       "      <th>460</th>\n",
       "      <td>0</td>\n",
       "      <td>0</td>\n",
       "      <td>NaN</td>\n",
       "    </tr>\n",
       "    <tr>\n",
       "      <th>862</th>\n",
       "      <td>0</td>\n",
       "      <td>0</td>\n",
       "      <td>NaN</td>\n",
       "    </tr>\n",
       "    <tr>\n",
       "      <th>895</th>\n",
       "      <td>0</td>\n",
       "      <td>0</td>\n",
       "      <td>NaN</td>\n",
       "    </tr>\n",
       "    <tr>\n",
       "      <th>953</th>\n",
       "      <td>0</td>\n",
       "      <td>0</td>\n",
       "      <td>NaN</td>\n",
       "    </tr>\n",
       "    <tr>\n",
       "      <th>986</th>\n",
       "      <td>0</td>\n",
       "      <td>0</td>\n",
       "      <td>NaN</td>\n",
       "    </tr>\n",
       "    <tr>\n",
       "      <th>996</th>\n",
       "      <td>0</td>\n",
       "      <td>0</td>\n",
       "      <td>NaN</td>\n",
       "    </tr>\n",
       "    <tr>\n",
       "      <th>1019</th>\n",
       "      <td>0</td>\n",
       "      <td>0</td>\n",
       "      <td>NaN</td>\n",
       "    </tr>\n",
       "    <tr>\n",
       "      <th>1024</th>\n",
       "      <td>0</td>\n",
       "      <td>0</td>\n",
       "      <td>NaN</td>\n",
       "    </tr>\n",
       "    <tr>\n",
       "      <th>1056</th>\n",
       "      <td>0</td>\n",
       "      <td>0</td>\n",
       "      <td>NaN</td>\n",
       "    </tr>\n",
       "    <tr>\n",
       "      <th>1073</th>\n",
       "      <td>0</td>\n",
       "      <td>0</td>\n",
       "      <td>NaN</td>\n",
       "    </tr>\n",
       "    <tr>\n",
       "      <th>1087</th>\n",
       "      <td>0</td>\n",
       "      <td>0</td>\n",
       "      <td>NaN</td>\n",
       "    </tr>\n",
       "    <tr>\n",
       "      <th>1122</th>\n",
       "      <td>0</td>\n",
       "      <td>0</td>\n",
       "      <td>NaN</td>\n",
       "    </tr>\n",
       "    <tr>\n",
       "      <th>1130</th>\n",
       "      <td>0</td>\n",
       "      <td>0</td>\n",
       "      <td>NaN</td>\n",
       "    </tr>\n",
       "    <tr>\n",
       "      <th>1140</th>\n",
       "      <td>0</td>\n",
       "      <td>0</td>\n",
       "      <td>NaN</td>\n",
       "    </tr>\n",
       "    <tr>\n",
       "      <th>1143</th>\n",
       "      <td>0</td>\n",
       "      <td>0</td>\n",
       "      <td>NaN</td>\n",
       "    </tr>\n",
       "    <tr>\n",
       "      <th>1169</th>\n",
       "      <td>0</td>\n",
       "      <td>0</td>\n",
       "      <td>NaN</td>\n",
       "    </tr>\n",
       "    <tr>\n",
       "      <th>1172</th>\n",
       "      <td>0</td>\n",
       "      <td>0</td>\n",
       "      <td>NaN</td>\n",
       "    </tr>\n",
       "    <tr>\n",
       "      <th>1188</th>\n",
       "      <td>0</td>\n",
       "      <td>0</td>\n",
       "      <td>NaN</td>\n",
       "    </tr>\n",
       "    <tr>\n",
       "      <th>1198</th>\n",
       "      <td>0</td>\n",
       "      <td>0</td>\n",
       "      <td>NaN</td>\n",
       "    </tr>\n",
       "    <tr>\n",
       "      <th>1202</th>\n",
       "      <td>0</td>\n",
       "      <td>0</td>\n",
       "      <td>NaN</td>\n",
       "    </tr>\n",
       "    <tr>\n",
       "      <th>1204</th>\n",
       "      <td>0</td>\n",
       "      <td>0</td>\n",
       "      <td>NaN</td>\n",
       "    </tr>\n",
       "    <tr>\n",
       "      <th>1206</th>\n",
       "      <td>0</td>\n",
       "      <td>0</td>\n",
       "      <td>NaN</td>\n",
       "    </tr>\n",
       "  </tbody>\n",
       "</table>\n",
       "</div>"
      ],
      "text/plain": [
       "      FTA  FT  FT%\n",
       "8       0   0  NaN\n",
       "214     0   0  NaN\n",
       "274     0   0  NaN\n",
       "460     0   0  NaN\n",
       "862     0   0  NaN\n",
       "895     0   0  NaN\n",
       "953     0   0  NaN\n",
       "986     0   0  NaN\n",
       "996     0   0  NaN\n",
       "1019    0   0  NaN\n",
       "1024    0   0  NaN\n",
       "1056    0   0  NaN\n",
       "1073    0   0  NaN\n",
       "1087    0   0  NaN\n",
       "1122    0   0  NaN\n",
       "1130    0   0  NaN\n",
       "1140    0   0  NaN\n",
       "1143    0   0  NaN\n",
       "1169    0   0  NaN\n",
       "1172    0   0  NaN\n",
       "1188    0   0  NaN\n",
       "1198    0   0  NaN\n",
       "1202    0   0  NaN\n",
       "1204    0   0  NaN\n",
       "1206    0   0  NaN"
      ]
     },
     "execution_count": 22,
     "metadata": {},
     "output_type": "execute_result"
    }
   ],
   "source": [
    "#missing values for 'FT%'\n",
    "df_noFTA = df[df['FT%'].isnull()]\n",
    "df_noFTA.loc[:,['FTA','FT','FT%']]"
   ]
  },
  {
   "cell_type": "code",
   "execution_count": 23,
   "metadata": {},
   "outputs": [
    {
     "data": {
      "text/html": [
       "<div>\n",
       "<style scoped>\n",
       "    .dataframe tbody tr th:only-of-type {\n",
       "        vertical-align: middle;\n",
       "    }\n",
       "\n",
       "    .dataframe tbody tr th {\n",
       "        vertical-align: top;\n",
       "    }\n",
       "\n",
       "    .dataframe thead th {\n",
       "        text-align: right;\n",
       "    }\n",
       "</style>\n",
       "<table border=\"1\" class=\"dataframe\">\n",
       "  <thead>\n",
       "    <tr style=\"text-align: right;\">\n",
       "      <th></th>\n",
       "      <th>Date</th>\n",
       "      <th>Age</th>\n",
       "    </tr>\n",
       "  </thead>\n",
       "  <tbody>\n",
       "    <tr>\n",
       "      <th>124</th>\n",
       "      <td>34367</td>\n",
       "      <td>21.9117</td>\n",
       "    </tr>\n",
       "    <tr>\n",
       "      <th>1013</th>\n",
       "      <td>39468</td>\n",
       "      <td>35.8789</td>\n",
       "    </tr>\n",
       "    <tr>\n",
       "      <th>671</th>\n",
       "      <td>37357</td>\n",
       "      <td>30.0986</td>\n",
       "    </tr>\n",
       "    <tr>\n",
       "      <th>0</th>\n",
       "      <td>33914</td>\n",
       "      <td>20.6708</td>\n",
       "    </tr>\n",
       "    <tr>\n",
       "      <th>94</th>\n",
       "      <td>34307</td>\n",
       "      <td>21.7474</td>\n",
       "    </tr>\n",
       "  </tbody>\n",
       "</table>\n",
       "</div>"
      ],
      "text/plain": [
       "       Date      Age\n",
       "124   34367  21.9117\n",
       "1013  39468  35.8789\n",
       "671   37357  30.0986\n",
       "0     33914  20.6708\n",
       "94    34307  21.7474"
      ]
     },
     "execution_count": 23,
     "metadata": {},
     "output_type": "execute_result"
    }
   ],
   "source": [
    "#sample for 'Date', 'Age' fields\n",
    "df_dateAge = df.loc[:,['Date','Age']]\n",
    "df_dateAge.sample(5)"
   ]
  },
  {
   "cell_type": "markdown",
   "metadata": {},
   "source": [
    "## Data analysis\n",
    "Place your **data analysis** code and documentation within this section.\n",
    "- Perform at least 5 different statistical or other analyses of different aspects of the data.\n",
    "    - Your analyses must be specific and relevant to your chosen data set and show interesting aspects of it.\n",
    "    - Include at least one analysis that includes grouping rows by a shared attribute and performing some kind of statistical analysis on each group.\n",
    "    - Sort the data in at least 1 of your analyses, but sort on its own does not constitute an analysis on its own.\n",
    "- Keep each of your Code cells short and focused on a single task.\n",
    "- Include a Markdown cell above each Code cell that describes what task the code within the Code cell is performing.\n",
    "- Make as many code cells as you need to complete the analysis - a few have been created for you to start with."
   ]
  },
  {
   "cell_type": "markdown",
   "metadata": {},
   "source": [
    "Shaq was notorious for being fouled intentionally by opposing teams as he was a poor free throw shooter. It would be interesting to know how many games he had where he shot a high number of free throws. The code below groups the rows by ```FT```, and counts the number of time he shot each amount of free throws."
   ]
  },
  {
   "cell_type": "code",
   "execution_count": 24,
   "metadata": {},
   "outputs": [
    {
     "data": {
      "text/plain": [
       "FT\n",
       "0      52\n",
       "1     105\n",
       "2     146\n",
       "3     158\n",
       "4     144\n",
       "5     128\n",
       "6     137\n",
       "7      96\n",
       "8      84\n",
       "9      50\n",
       "10     37\n",
       "11     25\n",
       "12     21\n",
       "13     13\n",
       "14      4\n",
       "15      5\n",
       "16      1\n",
       "19      1\n",
       "Name: FT, dtype: int64"
      ]
     },
     "execution_count": 24,
     "metadata": {},
     "output_type": "execute_result"
    }
   ],
   "source": [
    "df.groupby('FT')['FT'].count()"
   ]
  },
  {
   "cell_type": "markdown",
   "metadata": {},
   "source": [
    "Next, I wanted to calculate Shaq's career free throw percentage. I did this by dividing the total of the ```FT``` column by the total of the ```FTA``` column."
   ]
  },
  {
   "cell_type": "code",
   "execution_count": 29,
   "metadata": {},
   "outputs": [
    {
     "name": "stdout",
     "output_type": "stream",
     "text": [
      "Career free throw percentage:  0.5274617845716317\n"
     ]
    }
   ],
   "source": [
    "df_totalFT = df['FT'].sum()\n",
    "df_totalFTA = df['FTA'].sum()\n",
    "df_FTP = df_totalFT/df_totalFTA\n",
    "print(\"Career free throw percentage: \",df_FTP)"
   ]
  },
  {
   "cell_type": "markdown",
   "metadata": {},
   "source": [
    "To see if fatigue impacted Shaq's performance, I ran the code below to compare his scoring average in the first twenty games of a given season vs. the final twenty games."
   ]
  },
  {
   "cell_type": "code",
   "execution_count": 28,
   "metadata": {},
   "outputs": [
    {
     "name": "stdout",
     "output_type": "stream",
     "text": [
      "Scoring average in first 20 games of the season:  22.073684210526316  PPG\n",
      "Scoring average in last 20 games of the season:  26.93233082706767  PPG\n"
     ]
    }
   ],
   "source": [
    "#first twenty games of a given season\n",
    "df_first20 = df[df['SeasGm'] <= 20]\n",
    "avg_pts_first20 = df_first20['PTS'].mean()\n",
    "print(\"Scoring average in first 20 games of the season: \",avg_pts_first20,\" PPG\")\n",
    "\n",
    "#last twenty games of a given season\n",
    "df_last20 = df[df['SeasGm'] >= 62]\n",
    "avg_pts_last20 = df_last20['PTS'].mean()\n",
    "print(\"Scoring average in last 20 games of the season: \",avg_pts_last20,\" PPG\")"
   ]
  },
  {
   "cell_type": "markdown",
   "metadata": {},
   "source": [
    "Next, I want to see how much age impacted his production. Assuming he reached his athletic peak at age 30, I want to compare his rebounding average from age 30-33 vs. age 34-37."
   ]
  },
  {
   "cell_type": "code",
   "execution_count": 32,
   "metadata": {},
   "outputs": [
    {
     "name": "stdout",
     "output_type": "stream",
     "text": [
      "Rebounding average at age 30-33:  10.646840148698885\n",
      "Rebounding average at age 34-37:  8.112903225806452\n"
     ]
    }
   ],
   "source": [
    "#age 30-33\n",
    "df_3033 = df[(df['Age'] >= 30) & (df['Age'] <= 34)]\n",
    "avg_reb_3033 = df_3033['TRB'].mean()\n",
    "print(\"Rebounding average at age 30-33: \",avg_reb_3033)\n",
    "\n",
    "#age 34-37\n",
    "df_3437 = df[(df['Age'] >= 34) & (df['Age'] <= 38)]\n",
    "avg_reb_3437 = df_3437['TRB'].mean()\n",
    "print(\"Rebounding average at age 34-37: \",avg_reb_3437)"
   ]
  },
  {
   "cell_type": "markdown",
   "metadata": {},
   "source": [
    "Finally, I want to see which team Shaq played his best basketball for. I will be using the ```GmSc``` (Gamescore) as an all-encompassing statistic for overall performance for this comparison. The code below groups the rows by the ```Tm``` field and compares the average ```GmSc``` for each group."
   ]
  },
  {
   "cell_type": "code",
   "execution_count": 33,
   "metadata": {},
   "outputs": [
    {
     "data": {
      "text/plain": [
       "Tm\n",
       "BOS     7.105405\n",
       "CLE     8.615094\n",
       "LAL    21.798638\n",
       "MIA    14.584390\n",
       "ORL    22.090508\n",
       "PHO    13.255340\n",
       "Name: GmSc, dtype: float64"
      ]
     },
     "execution_count": 33,
     "metadata": {},
     "output_type": "execute_result"
    }
   ],
   "source": [
    "df.groupby('Tm')['GmSc'].mean()"
   ]
  },
  {
   "cell_type": "markdown",
   "metadata": {},
   "source": [
    "## Data visualization\n",
    "In this section, you will create a few **visualizations** that show some of the insights you have gathered from this data.\n",
    "- Create at least 5 different visualizations, where each visualization shows different insights into the data.\n",
    "- Use at least 3 different visualization types (e.g. bar charts, line charts, stacked area charts, pie charts, etc)\n",
    "- Create a Markdown cell and a Code cell for each, where you explain and show the visualizations, respectively.\n",
    "- Create as many additional cells as you need to prepare the data for the visualizations."
   ]
  },
  {
   "cell_type": "markdown",
   "metadata": {},
   "source": [
    "First, I want to use a bar chart to visualize Shaq's highest-scoring game in each season he played. The following code groups the rows by ```Season```, and plots the maximum value in each group. "
   ]
  },
  {
   "cell_type": "code",
   "execution_count": 35,
   "metadata": {},
   "outputs": [
    {
     "data": {
      "text/plain": [
       "<AxesSubplot:xlabel='Season #', ylabel='Season High'>"
      ]
     },
     "execution_count": 35,
     "metadata": {},
     "output_type": "execute_result"
    },
    {
     "data": {
      "image/png": "[encoded data removed]",
      "text/plain": [
       "<Figure size 432x288 with 1 Axes>"
      ]
     },
     "metadata": {
      "needs_background": "light"
     },
     "output_type": "display_data"
    }
   ],
   "source": [
    "df_seasonHigh = df[['Season','PTS']].groupby('Season')['PTS'].max()\n",
    "df_seasonHigh.plot.bar(xlabel='Season #',ylabel='Season High',legend=False)"
   ]
  },
  {
   "cell_type": "markdown",
   "metadata": {},
   "source": [
    "Next, I want to use a pie chart to break down how he scored his points - between 3-pointers, free throws, and two-pointers (rest). "
   ]
  },
  {
   "cell_type": "code",
   "execution_count": 37,
   "metadata": {},
   "outputs": [
    {
     "data": {
      "text/plain": [
       "Text(0.5, 1.0, 'Points Distribution')"
      ]
     },
     "execution_count": 37,
     "metadata": {},
     "output_type": "execute_result"
    },
    {
     "data": {
      "image/png": "[encoded data removed]",
      "text/plain": [
       "<Figure size 432x288 with 1 Axes>"
      ]
     },
     "metadata": {},
     "output_type": "display_data"
    }
   ],
   "source": [
    "df_totalpoints = df['PTS'].sum()\n",
    "\n",
    "df_pointsfrom3P = df['3P'].sum() * 3 #multiply by 3 as each 3P is worth 3 points\n",
    "df_pointsfromFT = df['FT'].sum()\n",
    "df_pointsfrom2P = df_totalpoints - df_pointsfrom3P - df_pointsfromFT\n",
    "\n",
    "df_pointsbreakdown = [df_pointsfrom3P, df_pointsfromFT, df_pointsfrom2P]\n",
    "df_pointsbreakdown_labels = ['Points from 3PT', 'Points from FT', 'Points from 2PT']\n",
    "\n",
    "plt.pie(df_pointsbreakdown, labels=df_pointsbreakdown_labels)\n",
    "plt.title(\"Points Distribution\")"
   ]
  },
  {
   "cell_type": "markdown",
   "metadata": {},
   "source": [
    "Next, I want to use a scatter plot to visualize the correlation between the number of offensive rebounds Shaq gets and his field goal percentage in a given game. I did this by plotting ```ORB``` against ```FG%```. "
   ]
  },
  {
   "cell_type": "code",
   "execution_count": 39,
   "metadata": {},
   "outputs": [
    {
     "data": {
      "text/plain": [
       "Text(0.5, 1.0, 'Offensive Rebounds vs. Field Goal Percentage for a Given Game')"
      ]
     },
     "execution_count": 39,
     "metadata": {},
     "output_type": "execute_result"
    },
    {
     "data": {
      "image/png": "[encoded data removed]",
      "text/plain": [
       "<Figure size 432x288 with 1 Axes>"
      ]
     },
     "metadata": {
      "needs_background": "light"
     },
     "output_type": "display_data"
    }
   ],
   "source": [
    "df_ORB_FGP = df[['ORB','FG%']]\n",
    "x = df_ORB_FGP['ORB']\n",
    "y = df_ORB_FGP['FG%']\n",
    "\n",
    "plt.scatter(x,y)\n",
    "plt.xlabel('Offensive Rebounds')\n",
    "plt.ylabel('Field Goal %')\n",
    "plt.title('Offensive Rebounds vs. Field Goal Percentage for a Given Game')\n"
   ]
  },
  {
   "cell_type": "markdown",
   "metadata": {},
   "source": [
    "Next, I want to use a bar plot to visualize how many total minutes Shaq played in each season of his career. I did this by grouping the rows by ```Season```, calculating the sum ```Minutes``` for each season, and plotting both values in a bar chart."
   ]
  },
  {
   "cell_type": "code",
   "execution_count": 41,
   "metadata": {},
   "outputs": [
    {
     "data": {
      "text/plain": [
       "<AxesSubplot:xlabel='Season #', ylabel='Total Minutes'>"
      ]
     },
     "execution_count": 41,
     "metadata": {},
     "output_type": "execute_result"
    },
    {
     "data": {
      "image/png": "[encoded data removed]",
      "text/plain": [
       "<Figure size 432x288 with 1 Axes>"
      ]
     },
     "metadata": {
      "needs_background": "light"
     },
     "output_type": "display_data"
    }
   ],
   "source": [
    "df_totalMinutes = df[['Season','Minutes']].groupby('Season')['Minutes'].sum()\n",
    "df_totalMinutes.plot.bar(xlabel='Season #',ylabel='Total Minutes',legend=False)"
   ]
  },
  {
   "cell_type": "markdown",
   "metadata": {},
   "source": [
    "Finally, I want to visualize what Shaq's average plus-minus is against each team. I did this by grouping the rows by the ```Opp``` field, and calculating the average ```Pls/Mns``` for each group. To avoid running into issues, I am only including rows that have real values for ```Pls/Mns```. There is a clear outlier in this plot on account of the fact that he only played one game in his career against the team 'NOK'. "
   ]
  },
  {
   "cell_type": "code",
   "execution_count": 42,
   "metadata": {},
   "outputs": [
    {
     "data": {
      "text/plain": [
       "<AxesSubplot:xlabel='Opponent', ylabel='Average Plus/Minus'>"
      ]
     },
     "execution_count": 42,
     "metadata": {},
     "output_type": "execute_result"
    },
    {
     "data": {
      "image/png": "[encoded data removed]",
      "text/plain": [
       "<Figure size 432x288 with 1 Axes>"
      ]
     },
     "metadata": {
      "needs_background": "light"
     },
     "output_type": "display_data"
    }
   ],
   "source": [
    "df_notNull = df[df['Pls/Mns'].notnull()]\n",
    "\n",
    "df_avgPlsMns = df_notNull[['Opp','Pls/Mns']].groupby('Opp')['Pls/Mns'].mean()\n",
    "df_avgPlsMns.plot.bar(xlabel='Opponent',ylabel='Average Plus/Minus',legend=False)"
   ]
  }
 ],
 "metadata": {
  "kernelspec": {
   "display_name": "Python 3 (ipykernel)",
   "language": "python",
   "name": "python3"
  },
  "language_info": {
   "codemirror_mode": {
    "name": "ipython",
    "version": 3
   },
   "file_extension": ".py",
   "mimetype": "text/x-python",
   "name": "python",
   "nbconvert_exporter": "python",
   "pygments_lexer": "ipython3",
   "version": "3.9.12"
  }
 },
 "nbformat": 4,
 "nbformat_minor": 4
}
